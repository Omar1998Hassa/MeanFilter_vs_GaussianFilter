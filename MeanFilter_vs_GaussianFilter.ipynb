{
 "cells": [
  {
   "cell_type": "code",
   "execution_count": 1,
   "metadata": {},
   "outputs": [],
   "source": [
    "from scipy.signal import convolve2d, correlate2d\n",
    "import numpy as np\n",
    "import cv2\n",
    "import math"
   ]
  },
  {
   "cell_type": "code",
   "execution_count": 2,
   "metadata": {},
   "outputs": [],
   "source": [
    "def visualize_image(figure_name: str, img: np.ndarray):\n",
    "    cv2.imshow(figure_name, img)\n",
    "    cv2.waitKey(0)\n",
    "    cv2.destroyAllWindows()"
   ]
  },
  {
   "cell_type": "code",
   "execution_count": 3,
   "metadata": {},
   "outputs": [],
   "source": [
    "def show_images(images, titles):\n",
    "    #This function is used to show image(s) with titles by sending an array of images and an array of associated titles.\n",
    "    # images[0] will be drawn with the title titles[0] if exists\n",
    "    # You aren't required to understand this function, use it as-is.\n",
    "    assert len(images) == len(titles)\n",
    "    for title in titles:\n",
    "        cv2.namedWindow(title, cv2.WINDOW_NORMAL)\n",
    "    \n",
    "    for title, img in zip(titles, images):\n",
    "        cv2.imshow(title, img)\n",
    "\n",
    "    cv2.waitKey(0)\n",
    "    cv2.destroyAllWindows()\n",
    "\n",
    "# How to use show_images([list of images], [list of titles]) They must have the same length\n",
    "# show_images([img1, img2], ['This is image 1', 'This is image 2'])"
   ]
  },
  {
   "cell_type": "code",
   "execution_count": 4,
   "metadata": {},
   "outputs": [],
   "source": [
    "#TODO: Create function to create mean filter for an arbitary size\n",
    "def create_mean_filter(ksize):\n",
    "    # Remember to assert that the length is odd\n",
    "    assert ksize%2 == 1\n",
    "    mean_filter = np.ones((ksize,ksize))*(1/(ksize*ksize))\n",
    "    return mean_filter"
   ]
  },
  {
   "cell_type": "code",
   "execution_count": 5,
   "metadata": {},
   "outputs": [],
   "source": [
    "# This function can be implemented using a double loop but since we \n",
    "# have numpy we can try it without loops \n",
    "# check np.meshgrid https://www.geeksforgeeks.org/numpy-meshgrid-function/\n",
    "def create_gaussian_filter(ksize, sigma):\n",
    "    assert ksize%2 == 1\n",
    "    x = np.linspace(-(ksize//2), ksize//2, ksize) \n",
    "    y = np.linspace(-(ksize//2), ksize//2, ksize)\n",
    "    x, y = np.meshgrid(x, y)\n",
    "    #print(x)\n",
    "    #print(y)\n",
    "    #gaussian_filter = np.zeros((ksize,ksize))\n",
    "    gaussian_filter= (1/(2*math.pi*(sigma**2)))*math.e**( -((x**2) + (y**2))/(2*sigma**2))\n",
    "    #print(gaussian_filter)\n",
    "    return gaussian_filter  "
   ]
  },
  {
   "cell_type": "code",
   "execution_count": 6,
   "metadata": {},
   "outputs": [],
   "source": [
    "img = cv2.imread('./assets/bird.jpg')\n",
    "visualize_image('original', img)"
   ]
  },
  {
   "cell_type": "code",
   "execution_count": 7,
   "metadata": {},
   "outputs": [],
   "source": [
    "# TODO: Test your functions with `correlate2d()`\n",
    "my_blur = np.array(img)\n",
    "my_gaussian_blur = np.array(img)\n",
    "my_blur[:,:,0] = correlate2d(img[:,:,0], create_mean_filter(5), 'same')\n",
    "my_blur[:,:,1] = correlate2d(img[:,:,1], create_mean_filter(5), 'same')\n",
    "my_blur[:,:,2] = correlate2d(img[:,:,2], create_mean_filter(5), 'same')\n",
    "## do the gausian \n",
    "my_gaussian_blur[:,:,0] = correlate2d(img[:,:,0], create_gaussian_filter(5,1), 'same')\n",
    "my_gaussian_blur[:,:,1] = correlate2d(img[:,:,1], create_gaussian_filter(5,1), 'same')\n",
    "my_gaussian_blur[:,:,2] = correlate2d(img[:,:,2], create_gaussian_filter(5,1), 'same')\n",
    "show_images([my_blur, my_gaussian_blur,img],['my mean blur','my gaussian blur','original img'])\n"
   ]
  },
  {
   "cell_type": "code",
   "execution_count": 22,
   "metadata": {},
   "outputs": [],
   "source": [
    "original = cv2.imread('./assets/original.png')\n",
    "n1 = cv2.imread('./assets/n1.jpg')\n",
    "n2 = cv2.imread('./assets/n2.jpg')\n",
    "n3 = cv2.imread('./assets/n3.jpg')\n",
    "show_images([original, n1,n2,n3],['original','n1','n2','n3'])\n"
   ]
  },
  {
   "cell_type": "code",
   "execution_count": 90,
   "metadata": {},
   "outputs": [],
   "source": [
    "n1_mean_blur =cv2.blur(n1, ksize=(7, 7), borderType=cv2.BORDER_CONSTANT)\n",
    "n2_mean_blur = cv2.blur(n2, ksize=(7,7), borderType=cv2.BORDER_CONSTANT)\n",
    "n3_mean_blur = cv2.blur(n3, ksize=(7, 7), borderType=cv2.BORDER_CONSTANT)\n",
    "show_images([original, n1_mean_blur,n2_mean_blur,n3_mean_blur],['original','n1 mean blur','n2 mean blur','n3 mean blur'])"
   ]
  },
  {
   "cell_type": "code",
   "execution_count": 94,
   "metadata": {},
   "outputs": [],
   "source": [
    "n1_gaussian_blur = cv2.GaussianBlur(n1, ksize=(7, 7), sigmaX=4, sigmaY=4, borderType=cv2.BORDER_CONSTANT)\n",
    "n2_gaussian_blur = cv2.GaussianBlur(n2, ksize=(7, 7), sigmaX=4, sigmaY=4, borderType=cv2.BORDER_CONSTANT)\n",
    "n3_gaussian_blur = cv2.GaussianBlur(n3, ksize=(7,7), sigmaX=4, sigmaY=4, borderType=cv2.BORDER_CONSTANT)\n",
    "show_images([original, n1_gaussian_blur,n2_gaussian_blur,n3_gaussian_blur],['original','n1_gaussian_blur ','n2_gaussian_blur','n3_gaussian_blur'])"
   ]
  },
  {
   "cell_type": "markdown",
   "metadata": {},
   "source": [
    "in the Mean filter the size of the kernel determines the bluring effect, the larger the kernel the higher the blurring effect.\n",
    "to remove the noise of the given images a kernel of sizes (3,3) , (5,5),(7,7) and (9,9) were applied. In the first two kernels the noise effects were still visible by the naked eye. Also, in the (9,9) kernel the noise was less noticable thean the first two kernels but lots of data of the image were lost. So, the kernel of size (7,7) was chosen as the noise was not noticable and it preserves more info in the image than the kernel of size (9,9). Also, the three images were close to each other so the effect of the kernels were nearly the same on them.\n"
   ]
  },
  {
   "cell_type": "markdown",
   "metadata": {},
   "source": [
    "In the gaussian filter the size of the kernel and the sigma value determnines the filtering effect. the different between gaussian filter and box filter is that gausian filter takes in consideration how far the pixel are from the pixel being smoothed thus preservering more details of the image than the box filter.  The higher the sigma and the larger the kernel the more smoothed the image will be. kernels of size (3,3) , (5,5),(7,7) and (9,9) were used with different values of sigmas. A kernel of size (7,7) and sigmaX and sigmaY equal 4 were found to remove the noise of the image more than kernels of size(3,3) and (5,5) while loosing less details of the image than a kernel of (9,9) "
   ]
  }
 ],
 "metadata": {
  "kernelspec": {
   "display_name": "Python 3",
   "language": "python",
   "name": "python3"
  },
  "language_info": {
   "codemirror_mode": {
    "name": "ipython",
    "version": 3
   },
   "file_extension": ".py",
   "mimetype": "text/x-python",
   "name": "python",
   "nbconvert_exporter": "python",
   "pygments_lexer": "ipython3",
   "version": "3.7.4"
  }
 },
 "nbformat": 4,
 "nbformat_minor": 4
}
